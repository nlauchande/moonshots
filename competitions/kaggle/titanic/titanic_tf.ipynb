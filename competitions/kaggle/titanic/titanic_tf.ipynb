{
 "cells": [
  {
   "cell_type": "code",
   "execution_count": 1,
   "metadata": {
    "collapsed": true
   },
   "outputs": [],
   "source": [
    "import tensorflow as tf\n",
    "\n",
    "from tensorflow.examples.tutorials.mnist import input_data as mnist_data\n",
    "from tensorflow.contrib import slim\n",
    "from tensorflow.contrib.learn import ModeKeys\n",
    "from tensorflow.contrib.learn import learn_runner"
   ]
  },
  {
   "cell_type": "code",
   "execution_count": 2,
   "metadata": {
    "collapsed": true
   },
   "outputs": [],
   "source": [
    "# Show debugging output\n",
    "tf.logging.set_verbosity(tf.logging.DEBUG)\n"
   ]
  },
  {
   "cell_type": "code",
   "execution_count": 3,
   "metadata": {
    "collapsed": true
   },
   "outputs": [],
   "source": [
    "#Step 1. Get the Data : Import and parse the data sets\n",
    "#Step 2. Feature Engineering : Create feature columns to describe the data\n",
    "#Step 3. Select ML Model : Select the type of model\n",
    "#Step 4. Train your model : Train the model\n",
    "#Step 5. Evaluate the model : Evaluate the model's effectiveness\n",
    "#Step 6. Roll out and let the model make predictions: Let the trained model make predictions"
   ]
  },
  {
   "cell_type": "code",
   "execution_count": null,
   "metadata": {
    "collapsed": true
   },
   "outputs": [],
   "source": []
  }
 ],
 "metadata": {
  "kernelspec": {
   "display_name": "Python 3",
   "language": "python",
   "name": "python3"
  },
  "language_info": {
   "codemirror_mode": {
    "name": "ipython",
    "version": 3
   },
   "file_extension": ".py",
   "mimetype": "text/x-python",
   "name": "python",
   "nbconvert_exporter": "python",
   "pygments_lexer": "ipython3",
   "version": "3.6.1"
  }
 },
 "nbformat": 4,
 "nbformat_minor": 2
}
